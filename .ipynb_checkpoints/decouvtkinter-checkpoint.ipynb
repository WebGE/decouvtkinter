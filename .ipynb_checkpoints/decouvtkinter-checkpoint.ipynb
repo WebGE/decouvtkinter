{
 "cells": [
  {
   "cell_type": "markdown",
   "metadata": {},
   "source": [
    "## Découverte de Tkinter 1/2"
   ]
  },
  {
   "cell_type": "markdown",
   "metadata": {},
   "source": [
    "**Ressources** : <a href=\"https://webge.synology.me/dokuwiki/doku.php?id=python:accueilpython\" target=\"_blank\"><input type=\"button\" value=\"Wiki Python sur WebGE\"></a> <a href=\"https://python.doctor/page-tkinter-interface-graphique-python-tutoriel\" target=\"_blank\"><input type=\"button\" value=\"Interface graphique Tkinter\"></a> "
   ]
  },
  {
   "cell_type": "markdown",
   "metadata": {},
   "source": [
    "### Présentation\n",
    "*Tkinter est la bibliothèque graphique libre d'origine pour le langage Python, permettant la création d'interfaces graphiques. Elle vient d'une adaptation de la bibliothèque graphique Tk écrite pour Tcl.* Wikipédia"
   ]
  },
  {
   "cell_type": "markdown",
   "metadata": {},
   "source": [
    "### 1. Création d'une fenêtre"
   ]
  },
  {
   "cell_type": "code",
   "execution_count": null,
   "metadata": {},
   "outputs": [],
   "source": [
    "import tkinter as tk\n",
    "# 1. Création d'une fenêtre avec une taille par défaut, racine de notre interface\n",
    "fenetre = tk.Tk()\n",
    "# Démarrage la boucle Tkinter. Elle s'interrompt quand on ferme la fenêtre\n",
    "fenetre.mainloop()"
   ]
  },
  {
   "attachments": {
    "fenetre1.png": {
     "image/png": "[encoded data removed]"
    }
   },
   "cell_type": "markdown",
   "metadata": {},
   "source": [
    "**Comportement attendu**\n",
    "![fenetre1.png](attachment:fenetre1.png)"
   ]
  },
  {
   "cell_type": "markdown",
   "metadata": {},
   "source": [
    "### 2. Personnalisation de la fenêtre\n",
    "La fenêtre par défaut peut être personnalisée avec divers méthodes telles que :\n",
    "<html>\n",
    "    <table>\n",
    "        <thead>\n",
    "            <tr>\n",
    "                <th>Méthode</th>\n",
    "                <th>Effet</th>\n",
    "            </tr>\n",
    "        </thead>\n",
    "        <tbody>\n",
    "            <tr>\n",
    "                <td >f.<strong>geometry</strong>(\"100x100\")</td>\n",
    "                <td>Redimensionne la fenêtre f en 100px par 100px</td>\n",
    "            <tr>\n",
    "                <td>f.<strong>title</strong>(\"T\")</td>\n",
    "                <td>Affiche le titre T dans la fenêtre</td>\n",
    "            </tr>\n",
    "            <tr >\n",
    "                <td>f.<strong>resizable</strong>(width=False, height=False)</td>\n",
    "                <td>Empêche le redimensionnement en largeur et en hauteur de f</td>\n",
    "            </tr>\n",
    "        </tbody>\n",
    "    </table>\n",
    "</html>\n"
   ]
  },
  {
   "cell_type": "code",
   "execution_count": null,
   "metadata": {},
   "outputs": [],
   "source": [
    "import tkinter as tk\n",
    "# 1. Création d'une fenêtre avec une taille par défaut, racine de notre interface\n",
    "fenetre = tk.Tk()\n",
    "\n",
    "# 2. Personnalisation de la fenêtre\n",
    "fenetre.geometry('400x400') # Dimensions 400px x 400px\n",
    "fenetre.title('Découverte de Tkinter') # Ajout d'un titre\n",
    "fenetre.resizable(width=False, height=False) # La taille est figée\n",
    "\n",
    "# Démarrage la boucle Tkinter. Elle s'interrompt quand on ferme la fenêtre.\n",
    "fenetre.mainloop()"
   ]
  },
  {
   "attachments": {
    "fenetre2.png": {
     "image/png": "[encoded data removed]"
    }
   },
   "cell_type": "markdown",
   "metadata": {},
   "source": [
    "**Comportement attendu**\n",
    "![fenetre2.png](attachment:fenetre2.png)"
   ]
  },
  {
   "cell_type": "markdown",
   "metadata": {},
   "source": [
    "### 3. Placement des Widgets (Button, Label, Entry) avec la méthode place(x,y)"
   ]
  },
  {
   "cell_type": "code",
   "execution_count": null,
   "metadata": {},
   "outputs": [],
   "source": [
    "import tkinter as tk\n",
    "# 1. Création d'une fenêtre avec une taille par défaut, racine de notre interface.\n",
    "fenetre = tk.Tk()\n",
    "\n",
    "# 2. Personnalisation de la fenêtre\n",
    "fenetre.geometry('400x400') # Dimensions 400px x 400px\n",
    "fenetre.title('Découverte de Tkinter') # Ajout d'un titre\n",
    "fenetre.resizable(width=False, height=False) # La taille est figée\n",
    "\n",
    "# 3. Placement des Widgets : Button, Label, Entry\n",
    "text_nom = tk.Label(fenetre,text=\"Entrez votre prénom :\")\n",
    "text_nom.place(x=20,y=20)\n",
    "Saisie = tk.Entry(fenetre)\n",
    "Saisie.place(x=150,y=20)\n",
    "B_Saisie_Nom = tk.Button(fenetre,text=\"Ok\",width=\"10\")\n",
    "B_Saisie_Nom.place(x=280,y=16)\n",
    "\n",
    "# Démarrage la boucle Tkinter. Elle s'interrompt quand on ferme la fenêtre.\n",
    "fenetre.mainloop()"
   ]
  },
  {
   "attachments": {
    "fenetre3.png": {
     "image/png": "[encoded data removed]"
    }
   },
   "cell_type": "markdown",
   "metadata": {},
   "source": [
    "**Comportement attendu**\n",
    "![fenetre3.png](attachment:fenetre3.png)"
   ]
  },
  {
   "cell_type": "markdown",
   "metadata": {},
   "source": [
    "### 4. Gestion de l'évènement : \"clic sur le bouton\""
   ]
  },
  {
   "cell_type": "code",
   "execution_count": null,
   "metadata": {},
   "outputs": [],
   "source": [
    "import tkinter as tk\n",
    "\n",
    "# 4. Gestion de l'évènement clic_B_Saisie_Nom\n",
    "def clic_B_Saisie_Nom():\n",
    "    tk.Label(fenetre, text='Bonjour '+ Saisie.get(), fg='blue').place(x=200, y=50)\n",
    "\n",
    "# 1. Création d'une fenêtre avec une taille par défaut, racine de notre interface.\n",
    "fenetre = tk.Tk()\n",
    "\n",
    "# 2. Personnalisation de la fenêtre\n",
    "fenetre.geometry('400x400') # Dimensions 400px x 400px\n",
    "fenetre.title('Découverte de Tkinter') # Ajout d'un titre\n",
    "fenetre.resizable(width=False, height=False) # La taille est figée\n",
    "\n",
    "# 3. Placement des Widgets : Button, Label, Entry\n",
    "text_nom = tk.Label(fenetre,text=\"Entrez votre prénom :\")\n",
    "text_nom.place(x=20,y=20)\n",
    "Saisie = tk.Entry(fenetre)\n",
    "Saisie.place(x=150,y=20)\n",
    "B_Saisie_Nom = tk.Button(fenetre,text=\"Ok\",width=\"10\", command=clic_B_Saisie_Nom)\n",
    "B_Saisie_Nom.place(x=280,y=16)\n",
    "\n",
    "# Démarrage la boucle Tkinter. Elle s'interrompt quand on ferme la fenêtre.\n",
    "fenetre.mainloop()"
   ]
  },
  {
   "attachments": {
    "fenetre4.png": {
     "image/png": "[encoded data removed]"
    }
   },
   "cell_type": "markdown",
   "metadata": {},
   "source": [
    "**Comportement attendu**\n",
    "![fenetre4.png](attachment:fenetre4.png)"
   ]
  },
  {
   "cell_type": "markdown",
   "metadata": {},
   "source": [
    " ### 5. Placement des Widgets (Button, Label, Entry) avec la méthode grid"
   ]
  },
  {
   "cell_type": "code",
   "execution_count": null,
   "metadata": {},
   "outputs": [],
   "source": []
  }
 ],
 "metadata": {
  "kernelspec": {
   "display_name": "Python 3",
   "language": "python",
   "name": "python3"
  },
  "language_info": {
   "codemirror_mode": {
    "name": "ipython",
    "version": 3
   },
   "file_extension": ".py",
   "mimetype": "text/x-python",
   "name": "python",
   "nbconvert_exporter": "python",
   "pygments_lexer": "ipython3",
   "version": "3.7.1"
  }
 },
 "nbformat": 4,
 "nbformat_minor": 2
}
