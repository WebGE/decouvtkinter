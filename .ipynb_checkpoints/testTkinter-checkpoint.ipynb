{
 "cells": [
  {
   "cell_type": "markdown",
   "metadata": {},
   "source": [
    "### Test de Tkinter"
   ]
  },
  {
   "cell_type": "markdown",
   "metadata": {},
   "source": [
    "**Premier exemple avec Tkinter** : \n",
    "on crée une fenêtre simple qui souhaite la bienvenue à l'utilisateur."
   ]
  },
  {
   "cell_type": "code",
   "execution_count": 2,
   "metadata": {},
   "outputs": [],
   "source": [
    "import tkinter as tk\n",
    "# On crée une fenêtre de 400px par 400px, racine de notre interface\n",
    "fenetre = tk.Tk()\n",
    "fenetre.geometry('400x400')\n",
    "\n",
    "# On crée un label (ligne de texte) souhaitant la bienvenue\n",
    "# Note : le premier paramètre passé au constructeur de Label est notre\n",
    "# interface racine et on affiche le label dans la fenêtre\n",
    "tk.Label(fenetre, text=\"Hello World !\").pack()\n",
    "\n",
    "# On démarre la boucle Tkinter qui s'interompt quand on ferme la fenêtre\n",
    "fenetre.mainloop()"
   ]
  },
  {
   "cell_type": "code",
   "execution_count": null,
   "metadata": {},
   "outputs": [],
   "source": [
    "import tkinter as tk\n",
    "\n",
    "app = tk.Tk()\n",
    "\n",
    "app.geometry('200x200')\n",
    "app.resizable(0, 0)\n",
    "\n",
    "backFrame = tk.Frame(master=app,\n",
    "                    width=200,\n",
    "                    height=200,\n",
    "                    ).pack()\n",
    "\n",
    "button1 = tk.Button(master=backFrame, \n",
    "                    text='Button 1', \n",
    "                    bg='blue', \n",
    "                    fg='red').pack()\n",
    "button2 = tk.Button(master=backFrame, \n",
    "                    text='Button 2', \n",
    "                    bg='blue', \n",
    "                    fg='green').pack()\n",
    "button3 = tk.Label(master=backFrame, \n",
    "                   text='Button 3', \n",
    "                   bg='red',\n",
    "                   fg='blue').pack()\n",
    "\n",
    "app.mainloop()"
   ]
  },
  {
   "cell_type": "code",
   "execution_count": null,
   "metadata": {},
   "outputs": [],
   "source": []
  }
 ],
 "metadata": {
  "kernelspec": {
   "display_name": "Python 3",
   "language": "python",
   "name": "python3"
  },
  "language_info": {
   "codemirror_mode": {
    "name": "ipython",
    "version": 3
   },
   "file_extension": ".py",
   "mimetype": "text/x-python",
   "name": "python",
   "nbconvert_exporter": "python",
   "pygments_lexer": "ipython3",
   "version": "3.7.1"
  }
 },
 "nbformat": 4,
 "nbformat_minor": 2
}
