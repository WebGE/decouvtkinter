{
 "cells": [
  {
   "cell_type": "markdown",
   "metadata": {},
   "source": [
    "## Découverte de Tkinter"
   ]
  },
  {
   "cell_type": "markdown",
   "metadata": {},
   "source": [
    "### 1. Création d'une fenêtre"
   ]
  },
  {
   "cell_type": "code",
   "execution_count": null,
   "metadata": {},
   "outputs": [],
   "source": [
    "import tkinter as tk\n",
    "# 1. On crée une fenêtre de 400px par 400px, racine de notre interface\n",
    "fenetre = tk.Tk()\n",
    "# On démarre la boucle Tkinter qui s'interompt quand on ferme la fenêtre\n",
    "fenetre.mainloop()"
   ]
  },
  {
   "attachments": {
    "fenetre1.png": {
     "image/png": "[encoded data removed]"
    }
   },
   "cell_type": "markdown",
   "metadata": {},
   "source": [
    "**Comportement attendu**\n",
    "![fenetre1.png](attachment:fenetre1.png)"
   ]
  },
  {
   "cell_type": "markdown",
   "metadata": {},
   "source": [
    "### 2. Personnalisation de la fenêtre"
   ]
  },
  {
   "cell_type": "code",
   "execution_count": 4,
   "metadata": {},
   "outputs": [],
   "source": [
    "import tkinter as tk\n",
    "# 1. On crée une fenêtre, racine de l'interface\n",
    "fenetre = tk.Tk()\n",
    "\n",
    "# 2. Personnalisation de la fenêtre\n",
    "fenetre.geometry('400x400') # Dimensions 400px x 400px\n",
    "fenetre.title('Découverte de Tkinter') # Ajout d'un titre\n",
    "fenetre.resizable(width=False, height=False) # La taille est figée\n",
    "\n",
    "# On démarre la boucle Tkinter qui s'interompt quand on ferme la fenêtre\n",
    "fenetre.mainloop()"
   ]
  },
  {
   "attachments": {
    "fenetre2.png": {
     "image/png": "[encoded data removed]"
    }
   },
   "cell_type": "markdown",
   "metadata": {},
   "source": [
    "**Comportement attendu**\n",
    "![fenetre2.png](attachment:fenetre2.png)"
   ]
  },
  {
   "cell_type": "markdown",
   "metadata": {},
   "source": [
    "### 3. Placement de Widgets : Button, Label, Entry"
   ]
  },
  {
   "cell_type": "code",
   "execution_count": 14,
   "metadata": {},
   "outputs": [],
   "source": [
    "import tkinter as tk\n",
    "# 1. On crée une fenêtre, racine de l'interface\n",
    "fenetre = tk.Tk()\n",
    "\n",
    "# 2. Personnalisation de la fenêtre\n",
    "fenetre.geometry('400x400') # Dimensions 400px x 400px\n",
    "fenetre.title('Découverte de Tkinter') # Ajout d'un titre\n",
    "fenetre.resizable(width=False, height=False) # La taille est figée\n",
    "\n",
    "# 3. Placement de Widgets : Button, Label, Entry\n",
    "text_nom = tk.Label(fenetre,text=\"Entrez votre prénom :\")\n",
    "text_nom.place(x=20,y=20)\n",
    "Saisie = tk.Entry(fenetre)\n",
    "Saisie.place(x=150,y=20)\n",
    "B_Saisie_Nom = tk.Button(fenetre,text=\"Ok\",width=\"10\")\n",
    "B_Saisie_Nom.place(x=280,y=16)\n",
    "text_rep_nom = tk.Label(fenetre,text=\"Bonjour :\").place(x=200,y=50)\n",
    "\n",
    "# On démarre la boucle Tkinter qui s'interompt quand on ferme la fenêtre\n",
    "fenetre.mainloop()"
   ]
  },
  {
   "attachments": {
    "fenetre3.png": {
     "image/png": "[encoded data removed]"
    }
   },
   "cell_type": "markdown",
   "metadata": {},
   "source": [
    "**Comportement attendu**\n",
    "![fenetre3.png](attachment:fenetre3.png)"
   ]
  },
  {
   "cell_type": "markdown",
   "metadata": {},
   "source": [
    "### 4. Gestion de l'évènement : \"clic sur le bouton\""
   ]
  },
  {
   "cell_type": "code",
   "execution_count": null,
   "metadata": {},
   "outputs": [],
   "source": [
    "import tkinter as tk\n",
    "\n",
    "# 4. Gestion de l'évènement\n",
    "def clic_B_Saisie_Nom():\n",
    "    pass\n",
    "\n",
    "# 1. On crée une fenêtre, racine de l'interface\n",
    "fenetre = tk.Tk()\n",
    "\n",
    "# 2. Personnalisation de la fenêtre\n",
    "fenetre.geometry('400x400') # Dimensions 400px x 400px\n",
    "fenetre.title('Découverte de Tkinter') # Ajout d'un titre\n",
    "fenetre.resizable(width=False, height=False) # La taille est figée\n",
    "\n",
    "# 3. Placement de Widgets : Button, Label, Entry\n",
    "text_nom = tk.Label(fenetre,text=\"Entrez votre prénom :\")\n",
    "text_nom.place(x=20,y=20)\n",
    "Saisie = tk.Entry(fenetre)\n",
    "Saisie.place(x=150,y=20)\n",
    "B_Saisie_Nom = tk.Button(fenetre,text=\"Ok\",width=\"10\", command=clic_B_Saisie_Nom)\n",
    "B_Saisie_Nom.place(x=280,y=16)\n",
    "text_rep_nom = tk.Label(fenetre,text=\"Bonjour :\").place(x=200,y=50)\n",
    "\n",
    "# On démarre la boucle Tkinter qui s'interompt quand on ferme la fenêtre\n",
    "fenetre.mainloop()"
   ]
  },
  {
   "cell_type": "code",
   "execution_count": 3,
   "metadata": {},
   "outputs": [],
   "source": [
    "import tkinter as tk\n",
    "\n",
    "app = tk.Tk()\n",
    "\n",
    "app.geometry('200x200')\n",
    "app.resizable(0, 0)\n",
    "\n",
    "backFrame = tk.Frame(master=app,\n",
    "                    width=200,\n",
    "                    height=200,\n",
    "                    ).pack()\n",
    "\n",
    "button1 = tk.Button(master=backFrame, \n",
    "                    text='Button 1', \n",
    "                    bg='blue', \n",
    "                    fg='red').pack()\n",
    "button2 = tk.Button(master=backFrame, \n",
    "                    text='Button 2', \n",
    "                    bg='blue', \n",
    "                    fg='green').pack()\n",
    "button3 = tk.Label(master=backFrame, \n",
    "                   text='Button 3', \n",
    "                   bg='red',\n",
    "                   fg='blue').pack()\n",
    "\n",
    "app.mainloop()"
   ]
  },
  {
   "cell_type": "code",
   "execution_count": null,
   "metadata": {},
   "outputs": [],
   "source": []
  }
 ],
 "metadata": {
  "kernelspec": {
   "display_name": "Python 3",
   "language": "python",
   "name": "python3"
  },
  "language_info": {
   "codemirror_mode": {
    "name": "ipython",
    "version": 3
   },
   "file_extension": ".py",
   "mimetype": "text/x-python",
   "name": "python",
   "nbconvert_exporter": "python",
   "pygments_lexer": "ipython3",
   "version": "3.7.1"
  }
 },
 "nbformat": 4,
 "nbformat_minor": 2
}
